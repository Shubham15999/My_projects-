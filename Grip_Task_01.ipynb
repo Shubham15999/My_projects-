{
  "nbformat": 4,
  "nbformat_minor": 0,
  "metadata": {
    "colab": {
      "provenance": []
    },
    "kernelspec": {
      "name": "python3",
      "display_name": "Python 3"
    },
    "language_info": {
      "name": "python"
    }
  },
  "cells": [
    {
      "cell_type": "markdown",
      "source": [
        "# **Data Science And Business Analytics Tasks**\n",
        "\n",
        "##**Task 01 : Prediction using supervised ML**\n",
        "\n",
        "### **Author : Shubham More**"
      ],
      "metadata": {
        "id": "Kz7KHWcmIHHz"
      }
    },
    {
      "cell_type": "markdown",
      "source": [
        "# **Introduction**\n",
        "\n",
        "This is a simple linear regression project aimed at predicting a student's percentage based on the number of study hours.\n",
        "\n",
        "Linear regression is a statistical method that models the relationship between a dependent variable (in this case, 'Scores')\n",
        "and one or more independent variables (in this case, 'Hours')."
      ],
      "metadata": {
        "id": "4M4zFRBWJgs8"
      }
    },
    {
      "cell_type": "markdown",
      "source": [
        "In this project, we'll perform the following steps:\n",
        "1. Read and explore the dataset.\n",
        "2. Clean the data (if necessary, though it appears to be clean).\n",
        "3. Visualize the relationship between study hours and scores.\n",
        "4. Train a linear regression model to predict scores based on study hours.\n",
        "5. Use the trained model to make predictions."
      ],
      "metadata": {
        "id": "0fIBPwofKde_"
      }
    },
    {
      "cell_type": "markdown",
      "source": [
        "**Importing the required libraries**"
      ],
      "metadata": {
        "id": "LRKT_ltpKzya"
      }
    },
    {
      "cell_type": "code",
      "execution_count": 12,
      "metadata": {
        "id": "G2fbe8oLLQ2i"
      },
      "outputs": [],
      "source": [
        "import pandas as pd\n",
        "import matplotlib.pyplot as plt\n",
        "%matplotlib inline\n",
        "from sklearn.linear_model import LinearRegression\n",
        "from sklearn.model_selection import train_test_split\n"
      ]
    },
    {
      "cell_type": "markdown",
      "source": [
        "**Reading data from remote link**"
      ],
      "metadata": {
        "id": "jXIv6mntLbE_"
      }
    },
    {
      "cell_type": "code",
      "source": [
        "url = \"http://bit.ly/w-data\"\n",
        "df = pd.read_csv(url)\n",
        "\n",
        "print(\"Data imported successfully\")"
      ],
      "metadata": {
        "colab": {
          "base_uri": "https://localhost:8080/"
        },
        "id": "wj0K7gqkLZPx",
        "outputId": "58e1464e-c3e1-45e1-f82f-f43f740c8286"
      },
      "execution_count": 13,
      "outputs": [
        {
          "output_type": "stream",
          "name": "stdout",
          "text": [
            "Data imported successfully\n"
          ]
        }
      ]
    },
    {
      "cell_type": "code",
      "source": [
        "# Display the first few rows of the dataset\n",
        "print(df.head())"
      ],
      "metadata": {
        "colab": {
          "base_uri": "https://localhost:8080/"
        },
        "id": "SuakY4xfL8dj",
        "outputId": "53b6eae5-28e9-43d8-d7d2-a89facdebf74"
      },
      "execution_count": 14,
      "outputs": [
        {
          "output_type": "stream",
          "name": "stdout",
          "text": [
            "   Hours  Scores\n",
            "0    2.5      21\n",
            "1    5.1      47\n",
            "2    3.2      27\n",
            "3    8.5      75\n",
            "4    3.5      30\n"
          ]
        }
      ]
    },
    {
      "cell_type": "markdown",
      "source": [
        "**Data Preprocessing (if necessary)**\n",
        "\n",
        "Since the provided dataset appears to be clean, we won't perform any specific data preprocessing in this example.\n",
        "However, in a real-world scenario, you might need to handle missing values, outliers, or perform other data cleaning tasks."
      ],
      "metadata": {
        "id": "IgiXmqa4MNKz"
      }
    },
    {
      "cell_type": "markdown",
      "source": [
        "**Data Visualization**\n",
        "\n",
        "Data visualization can help us understand the relationship between study hours and scores.\n",
        "Let's start by creating a scatter plot."
      ],
      "metadata": {
        "id": "qLincDXKMvGH"
      }
    },
    {
      "cell_type": "code",
      "source": [
        "plt.scatter(df['Hours'], df['Scores'])\n",
        "plt.xlabel('Hours Studied')\n",
        "plt.ylabel('Scores')\n",
        "plt.title('Hours Studied vs. Scores')\n",
        "plt.show()"
      ],
      "metadata": {
        "colab": {
          "base_uri": "https://localhost:8080/",
          "height": 472
        },
        "id": "1EszvhgiM3Y2",
        "outputId": "72a6f5bf-3ad4-4cd4-f4c5-7ad30c5b1475"
      },
      "execution_count": 15,
      "outputs": [
        {
          "output_type": "display_data",
          "data": {
            "text/plain": [
              "<Figure size 640x480 with 1 Axes>"
            ],
            "image/png": "[encoded data removed]"
          },
          "metadata": {}
        }
      ]
    },
    {
      "cell_type": "markdown",
      "source": [
        "**Train a Linear Regression Model**\n",
        "\n",
        "Now, let's train a linear regression model to predict scores based on study hours.\n"
      ],
      "metadata": {
        "id": "5aydHZfnNV3q"
      }
    },
    {
      "cell_type": "code",
      "source": [
        "# Split the data into training and testing sets\n",
        "X = df[['Hours']]   # Independent variable (Hours)\n",
        "y = df['Scores']    # Dependent variable (Scores)\n",
        "X_train, X_test, y_train, y_test = train_test_split(X, y, test_size=0.2, random_state=0)\n"
      ],
      "metadata": {
        "id": "WCmY4DYcNVLE"
      },
      "execution_count": 16,
      "outputs": []
    },
    {
      "cell_type": "code",
      "source": [
        "# Create a linear regression model and fit it on the training data\n",
        "model = LinearRegression()\n",
        "model.fit(X_train, y_train)"
      ],
      "metadata": {
        "colab": {
          "base_uri": "https://localhost:8080/",
          "height": 74
        },
        "id": "4FNNJTmSNxO8",
        "outputId": "2f406385-ebd6-4e5b-d7cb-74621764749e"
      },
      "execution_count": 17,
      "outputs": [
        {
          "output_type": "execute_result",
          "data": {
            "text/plain": [
              "LinearRegression()"
            ],
            "text/html": [
              "<style>#sk-container-id-2 {color: black;background-color: white;}#sk-container-id-2 pre{padding: 0;}#sk-container-id-2 div.sk-toggleable {background-color: white;}#sk-container-id-2 label.sk-toggleable__label {cursor: pointer;display: block;width: 100%;margin-bottom: 0;padding: 0.3em;box-sizing: border-box;text-align: center;}#sk-container-id-2 label.sk-toggleable__label-arrow:before {content: \"▸\";float: left;margin-right: 0.25em;color: #696969;}#sk-container-id-2 label.sk-toggleable__label-arrow:hover:before {color: black;}#sk-container-id-2 div.sk-estimator:hover label.sk-toggleable__label-arrow:before {color: black;}#sk-container-id-2 div.sk-toggleable__content {max-height: 0;max-width: 0;overflow: hidden;text-align: left;background-color: #f0f8ff;}#sk-container-id-2 div.sk-toggleable__content pre {margin: 0.2em;color: black;border-radius: 0.25em;background-color: #f0f8ff;}#sk-container-id-2 input.sk-toggleable__control:checked~div.sk-toggleable__content {max-height: 200px;max-width: 100%;overflow: auto;}#sk-container-id-2 input.sk-toggleable__control:checked~label.sk-toggleable__label-arrow:before {content: \"▾\";}#sk-container-id-2 div.sk-estimator input.sk-toggleable__control:checked~label.sk-toggleable__label {background-color: #d4ebff;}#sk-container-id-2 div.sk-label input.sk-toggleable__control:checked~label.sk-toggleable__label {background-color: #d4ebff;}#sk-container-id-2 input.sk-hidden--visually {border: 0;clip: rect(1px 1px 1px 1px);clip: rect(1px, 1px, 1px, 1px);height: 1px;margin: -1px;overflow: hidden;padding: 0;position: absolute;width: 1px;}#sk-container-id-2 div.sk-estimator {font-family: monospace;background-color: #f0f8ff;border: 1px dotted black;border-radius: 0.25em;box-sizing: border-box;margin-bottom: 0.5em;}#sk-container-id-2 div.sk-estimator:hover {background-color: #d4ebff;}#sk-container-id-2 div.sk-parallel-item::after {content: \"\";width: 100%;border-bottom: 1px solid gray;flex-grow: 1;}#sk-container-id-2 div.sk-label:hover label.sk-toggleable__label {background-color: #d4ebff;}#sk-container-id-2 div.sk-serial::before {content: \"\";position: absolute;border-left: 1px solid gray;box-sizing: border-box;top: 0;bottom: 0;left: 50%;z-index: 0;}#sk-container-id-2 div.sk-serial {display: flex;flex-direction: column;align-items: center;background-color: white;padding-right: 0.2em;padding-left: 0.2em;position: relative;}#sk-container-id-2 div.sk-item {position: relative;z-index: 1;}#sk-container-id-2 div.sk-parallel {display: flex;align-items: stretch;justify-content: center;background-color: white;position: relative;}#sk-container-id-2 div.sk-item::before, #sk-container-id-2 div.sk-parallel-item::before {content: \"\";position: absolute;border-left: 1px solid gray;box-sizing: border-box;top: 0;bottom: 0;left: 50%;z-index: -1;}#sk-container-id-2 div.sk-parallel-item {display: flex;flex-direction: column;z-index: 1;position: relative;background-color: white;}#sk-container-id-2 div.sk-parallel-item:first-child::after {align-self: flex-end;width: 50%;}#sk-container-id-2 div.sk-parallel-item:last-child::after {align-self: flex-start;width: 50%;}#sk-container-id-2 div.sk-parallel-item:only-child::after {width: 0;}#sk-container-id-2 div.sk-dashed-wrapped {border: 1px dashed gray;margin: 0 0.4em 0.5em 0.4em;box-sizing: border-box;padding-bottom: 0.4em;background-color: white;}#sk-container-id-2 div.sk-label label {font-family: monospace;font-weight: bold;display: inline-block;line-height: 1.2em;}#sk-container-id-2 div.sk-label-container {text-align: center;}#sk-container-id-2 div.sk-container {/* jupyter's `normalize.less` sets `[hidden] { display: none; }` but bootstrap.min.css set `[hidden] { display: none !important; }` so we also need the `!important` here to be able to override the default hidden behavior on the sphinx rendered scikit-learn.org. See: https://github.com/scikit-learn/scikit-learn/issues/21755 */display: inline-block !important;position: relative;}#sk-container-id-2 div.sk-text-repr-fallback {display: none;}</style><div id=\"sk-container-id-2\" class=\"sk-top-container\"><div class=\"sk-text-repr-fallback\"><pre>LinearRegression()</pre><b>In a Jupyter environment, please rerun this cell to show the HTML representation or trust the notebook. <br />On GitHub, the HTML representation is unable to render, please try loading this page with nbviewer.org.</b></div><div class=\"sk-container\" hidden><div class=\"sk-item\"><div class=\"sk-estimator sk-toggleable\"><input class=\"sk-toggleable__control sk-hidden--visually\" id=\"sk-estimator-id-2\" type=\"checkbox\" checked><label for=\"sk-estimator-id-2\" class=\"sk-toggleable__label sk-toggleable__label-arrow\">LinearRegression</label><div class=\"sk-toggleable__content\"><pre>LinearRegression()</pre></div></div></div></div></div>"
            ]
          },
          "metadata": {},
          "execution_count": 17
        }
      ]
    },
    {
      "cell_type": "code",
      "source": [
        "# Predict scores for the training data\n",
        "y_train_pred = model.predict(X_train)\n",
        "\n",
        "# Compare predicted scores with actual scores\n",
        "df_train_results = pd.DataFrame({'Actual': y_train, 'Predicted': y_train_pred})\n",
        "print(df_train_results)"
      ],
      "metadata": {
        "colab": {
          "base_uri": "https://localhost:8080/"
        },
        "id": "DzZ_zrI6OsHH",
        "outputId": "0a8ab473-18ba-4059-b238-a8add31e41c2"
      },
      "execution_count": 18,
      "outputs": [
        {
          "output_type": "stream",
          "name": "stdout",
          "text": [
            "    Actual  Predicted\n",
            "22      35  39.678655\n",
            "17      24  20.848407\n",
            "24      86  79.321281\n",
            "23      76  70.401690\n",
            "14      17  12.919882\n",
            "1       47  52.562508\n",
            "10      85  78.330215\n",
            "13      42  34.723326\n",
            "8       81  84.276609\n",
            "6       88  93.196200\n",
            "18      67  62.473165\n",
            "4       30  36.705458\n",
            "9       25  28.776933\n",
            "7       60  56.526771\n",
            "20      30  28.776933\n",
            "3       75  86.258740\n",
            "0       21  26.794801\n",
            "21      54  49.589311\n",
            "15      95  90.223003\n",
            "12      41  46.616114\n"
          ]
        }
      ]
    },
    {
      "cell_type": "markdown",
      "source": [
        "**Evaluate Model Performance on Training Data**"
      ],
      "metadata": {
        "id": "kI7rjJZtPp7A"
      }
    },
    {
      "cell_type": "code",
      "source": [
        "from sklearn.metrics import mean_absolute_error, mean_squared_error, r2_score\n",
        "\n",
        "# Evaluate model performance on training data\n",
        "mae_train = mean_absolute_error(y_train, y_train_pred)\n",
        "mse_train = mean_squared_error(y_train, y_train_pred)\n",
        "r2_train = r2_score(y_train, y_train_pred)\n",
        "\n",
        "print(f'Mean Absolute Error (MAE) on Training Data: {mae_train:.2f}')\n",
        "print(f'Mean Squared Error (MSE) on Training Data: {mse_train:.2f}')\n",
        "print(f'R-squared (R2) Value on Training Data: {r2_train:.2f}')\n"
      ],
      "metadata": {
        "colab": {
          "base_uri": "https://localhost:8080/"
        },
        "id": "-4rMfpMQPkae",
        "outputId": "a20a755a-e23f-40e5-bb34-7d29a68c1a84"
      },
      "execution_count": 19,
      "outputs": [
        {
          "output_type": "stream",
          "name": "stdout",
          "text": [
            "Mean Absolute Error (MAE) on Training Data: 5.19\n",
            "Mean Squared Error (MSE) on Training Data: 30.90\n",
            "R-squared (R2) Value on Training Data: 0.95\n"
          ]
        }
      ]
    },
    {
      "cell_type": "markdown",
      "source": [
        "**Visualize Model's Fit on Training Data**"
      ],
      "metadata": {
        "id": "krTjmNlWPsaJ"
      }
    },
    {
      "cell_type": "code",
      "source": [
        "# Visualize the regression line on the training data\n",
        "plt.scatter(X_train, y_train, color='blue', label='Actual')\n",
        "plt.plot(X_train, y_train_pred, color='red', label='Predicted')\n",
        "plt.xlabel('Hours Studied')\n",
        "plt.ylabel('Scores')\n",
        "plt.title('Linear Regression - Training Data')\n",
        "plt.legend()\n",
        "plt.show()"
      ],
      "metadata": {
        "colab": {
          "base_uri": "https://localhost:8080/",
          "height": 472
        },
        "id": "c251rlnrPzOQ",
        "outputId": "93c8c38f-2a57-44b9-daa8-433852e0f82a"
      },
      "execution_count": 20,
      "outputs": [
        {
          "output_type": "display_data",
          "data": {
            "text/plain": [
              "<Figure size 640x480 with 1 Axes>"
            ],
            "image/png": "[encoded data removed]"
          },
          "metadata": {}
        }
      ]
    },
    {
      "cell_type": "markdown",
      "source": [
        "The visualization shows the regression line (in red) along with the actual data points (in blue). This provides a visual representation of how well the model fits the training data.\n",
        "\n",
        "Based on the evaluation metrics and visual inspection, the model appears to be performing reasonably well on the training data. However, it's important to note that this assessment is based on the data the model was trained on, and performance on unseen data may vary.\n",
        "\n",
        "Next, we'll proceed to use the model to make predictions on new data."
      ],
      "metadata": {
        "id": "KfesuKnMQC8z"
      }
    },
    {
      "cell_type": "markdown",
      "source": [
        "**Predict the scores for the given input**"
      ],
      "metadata": {
        "id": "ZuKNGf21QUjS"
      }
    },
    {
      "cell_type": "code",
      "source": [
        "hours = 9.25\n",
        "predicted_score = model.predict([[hours]])\n",
        "\n",
        "# Print the predicted score\n",
        "print(f\"The predicted score for studying {hours} hours/day is approximately {predicted_score[0]:.2f}\")\n"
      ],
      "metadata": {
        "colab": {
          "base_uri": "https://localhost:8080/"
        },
        "id": "OenCV1BzQbHK",
        "outputId": "005fc355-2cbe-4d78-85c7-129b7a0aeb46"
      },
      "execution_count": 21,
      "outputs": [
        {
          "output_type": "stream",
          "name": "stdout",
          "text": [
            "The predicted score for studying 9.25 hours/day is approximately 93.69\n"
          ]
        },
        {
          "output_type": "stream",
          "name": "stderr",
          "text": [
            "/usr/local/lib/python3.10/dist-packages/sklearn/base.py:439: UserWarning: X does not have valid feature names, but LinearRegression was fitted with feature names\n",
            "  warnings.warn(\n"
          ]
        }
      ]
    },
    {
      "cell_type": "markdown",
      "source": [
        "In this project, we successfully built a linear regression model to predict a student's score based on the number of study hours.\n",
        "The model was trained on a provided dataset and achieved a satisfactory level of accuracy.\n",
        "\n",
        "This project demonstrates the application of linear regression, a fundamental technique in machine learning and statistics.\n",
        "It can be extended further with additional features, larger datasets, and more advanced regression techniques.\n",
        "\n",
        "Thank you for following along with this project!"
      ],
      "metadata": {
        "id": "GsA7bDjgRLRf"
      }
    }
  ]
}