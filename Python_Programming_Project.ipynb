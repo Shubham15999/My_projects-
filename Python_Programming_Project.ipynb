{
  "nbformat": 4,
  "nbformat_minor": 0,
  "metadata": {
    "colab": {
      "provenance": []
    },
    "kernelspec": {
      "name": "python3",
      "display_name": "Python 3"
    },
    "language_info": {
      "name": "python"
    }
  },
  "cells": [
    {
      "cell_type": "markdown",
      "source": [
        "Q1 You are working in a bank and you have been given two lists of the employees who worked in 2021. Employee’s name in list 1 are Ramesh, Suresh, Mahesh, Ali, Jacob and Saritha. List 2 contains the names of Ali, Mukesh, Mahesh, Jacob, Sai, Sarita. Please write a program which helps to identify people who are common in both lists. Please do not use any in-built function."
      ],
      "metadata": {
        "id": "yBT1rDovPB9n"
      }
    },
    {
      "cell_type": "code",
      "execution_count": 1,
      "metadata": {
        "id": "s6ar2PgpNv20"
      },
      "outputs": [],
      "source": [
        "employees1 = [ \"Ramesh\" , \"Suresh\" , \"Mahesh\" , \"Ali\" , \"Jacob\" , \"Saritha\"]\n",
        "\n",
        "employees2 = [ \"Ali\" , \"Mukesh\" , \"Mahesh\" , \"Jacob\" , \"Sai\" , \"Sarita\"]\n",
        "\n",
        "#commonEmp = set(employees1) & set(employees2)\n",
        "\n",
        "#print(commonEmp)"
      ]
    },
    {
      "cell_type": "markdown",
      "source": [
        "Above question in different way"
      ],
      "metadata": {
        "id": "5LPPsW0osDbK"
      }
    },
    {
      "cell_type": "code",
      "source": [
        "for i in employees1 :\n",
        "  for j in employees2 :\n",
        "    if i == j :\n",
        "      print(i)"
      ],
      "metadata": {
        "colab": {
          "base_uri": "https://localhost:8080/"
        },
        "id": "R6Wm61FEov3P",
        "outputId": "a2433d50-b214-41b1-b08c-aad22c71fca3"
      },
      "execution_count": 2,
      "outputs": [
        {
          "output_type": "stream",
          "name": "stdout",
          "text": [
            "Mahesh\n",
            "Ali\n",
            "Jacob\n"
          ]
        }
      ]
    },
    {
      "cell_type": "markdown",
      "source": [
        "Q2: While entering data, someone entered a few names as a common string “Ramesh Suresh Mohit”. Please write a program which separates all the names and convert them into a list. Once converted in a list, please write a program which adds their age.\n",
        "\n",
        "\n",
        "Ramesh :  25\n",
        "\n",
        "Suresh : 22\n",
        "\n",
        "Mohit : 26\n",
        "\n",
        "\n"
      ],
      "metadata": {
        "id": "36FmGK1LR2bu"
      }
    },
    {
      "cell_type": "code",
      "source": [
        "names = \"Ramesh Suresh Mohit\"\n",
        "\n",
        "new_list = names.split()\n",
        "print(new_list)\n",
        "\n",
        "for name in new_list :\n",
        "  if name == \"Ramesh\":\n",
        "    print('Ramesh : 25')\n",
        "  elif name == \"Suresh\" :\n",
        "    print('Suresh : 22')\n",
        "  else :\n",
        "    print('Mohit : 26')"
      ],
      "metadata": {
        "colab": {
          "base_uri": "https://localhost:8080/"
        },
        "id": "pjz3to1dR_wD",
        "outputId": "7511ee64-db25-4fa2-c057-c5df623b40c8"
      },
      "execution_count": null,
      "outputs": [
        {
          "output_type": "stream",
          "name": "stdout",
          "text": [
            "['Ramesh', 'Suresh', 'Mohit']\n",
            "Ramesh : 25\n",
            "Suresh : 22\n",
            "Mohit : 26\n"
          ]
        }
      ]
    },
    {
      "cell_type": "code",
      "source": [
        "# above ans is wrong\n",
        "names = \"Ramesh Suresh Mohit\"\n",
        "\n",
        "new_list = names.split()\n",
        "print(new_list)\n",
        "\n",
        "age = [25 , 22 , 26 ]\n",
        "\n",
        "nlist = {}\n",
        "\n",
        "for i , j in zip(new_list , age) :\n",
        "  nlist[i] = j\n",
        "print(nlist)"
      ],
      "metadata": {
        "colab": {
          "base_uri": "https://localhost:8080/"
        },
        "id": "0tGoGtM2l9eK",
        "outputId": "6b4ce4af-5d41-4bfc-80e3-61eb5c7fc4ec"
      },
      "execution_count": 3,
      "outputs": [
        {
          "output_type": "stream",
          "name": "stdout",
          "text": [
            "['Ramesh', 'Suresh', 'Mohit']\n",
            "{'Ramesh': 25, 'Suresh': 22, 'Mohit': 26}\n"
          ]
        }
      ]
    },
    {
      "cell_type": "markdown",
      "source": [
        "Q3: A few students from a university have taken three exams\n",
        "\n",
        "Name = Sam, Jacy, Tom, Steve\n",
        "\n",
        "Python = 25, 26, 29, 28\n",
        "\n",
        "Statistics = 23, 21, 19, 25\n",
        "\n",
        "SQL = 29, 27, 28, 25\n",
        "\n",
        "\n",
        "Please write a program which calculates mean values (no in-built function for mean) of all three tests and print the highest mean value. Addition and other functions are allowed. Please also report who scored the highest mark in python using programming construct.\n",
        "\n"
      ],
      "metadata": {
        "id": "7MEhfWL5TgS7"
      }
    },
    {
      "cell_type": "code",
      "source": [
        "Name = 'Sam' , 'Jacy' , 'Tom' , 'Steve'\n",
        "\n",
        "Python = 25 , 26 , 29 , 28\n",
        "\n",
        "Statistics = 23 , 21 , 19 , 25\n",
        "\n",
        "SQL = 29 , 27 , 28 , 25\n",
        "\n",
        "def MeanMarks(x) :\n",
        "  return (sum(x))/ len(x)\n",
        "\n",
        "pmarks = MeanMarks(Python)\n",
        "print(\"Mean Value of Python : \"  ,pmarks)\n",
        "\n",
        "smarks = MeanMarks(Statistics)\n",
        "print(\"Mean Value of Statistics : \" ,smarks)\n",
        "\n",
        "sqmarks = MeanMarks(SQL)\n",
        "print(\"Mean Value of SQL : \" ,sqmarks)\n",
        "\n",
        "\n",
        "print(f'Highest mean value is {max(pmarks,smarks,sqmarks)}')\n"
      ],
      "metadata": {
        "colab": {
          "base_uri": "https://localhost:8080/"
        },
        "id": "RceWLxlKTk-R",
        "outputId": "0812a45b-c2d5-4ff6-8760-6907e7ad080d"
      },
      "execution_count": null,
      "outputs": [
        {
          "output_type": "stream",
          "name": "stdout",
          "text": [
            "Mean Value of Python :  27.0\n",
            "Mean Value of Statistics :  22.0\n",
            "Mean Value of SQL :  27.25\n",
            "Highest mean value is 27.25\n"
          ]
        }
      ]
    },
    {
      "cell_type": "code",
      "source": [
        "highest = max(Python)\n",
        "\n",
        "indx = Python.index(highest)\n",
        "\n",
        "print(Name[indx] , \"has highest marks in Python .\")"
      ],
      "metadata": {
        "colab": {
          "base_uri": "https://localhost:8080/"
        },
        "id": "Rf_Zx69cc0QT",
        "outputId": "d31cfad5-fb86-4a83-c815-b040d2e4f95b"
      },
      "execution_count": null,
      "outputs": [
        {
          "output_type": "stream",
          "name": "stdout",
          "text": [
            "Tom has highest marks in Python .\n"
          ]
        }
      ]
    },
    {
      "cell_type": "markdown",
      "source": [
        "Q4: You are working in a medical store. A patient came to your medical store and asked to buy 2 strips of paracetamol, 3 strips of azithromycin and 5 strips of Vitamin C. One strip of paracetamol costs Rs 35, one strip of azithromycin costs Rs 49 and one strip of vitamin c costs Rs. 33. Patient gave you Rs 2000. Please tell us what is the total cost of each medicine, total cost of all medicine and how much money you refunded to the patient?\n",
        "\n",
        "\n"
      ],
      "metadata": {
        "id": "aFvkcVZ7UsSD"
      }
    },
    {
      "cell_type": "code",
      "source": [
        "pct = int ( input (\"Enter number of strips of Paracetamol : \"))\n",
        "az = int ( input (\"Enter number of strips of azithromycin : \"))\n",
        "vitC = int ( input (\"Enter number of strips of Vitamin C : \"))\n",
        "amount = int( input (\"Enter amount given by patient : \"))\n",
        "\n",
        "x = 35\n",
        "y = 49\n",
        "z = 33\n",
        "\n",
        "def price(x,y,z) :\n",
        "  print(f'Total cost of paracetamol is Rs. {x} ')\n",
        "  print(f'Total cost of azithromycin is Rs. {y} ')\n",
        "  print(f'Total cost of vitC is Rs. {z} ')\n",
        "  total = x + y + z\n",
        "  print(f'Total cost of all medicines is Rs. {total} ')\n",
        "  return total\n",
        "\n",
        "#price(pct*x,az*y,vitC*z)\n",
        "\n",
        "bill = price(pct*x,az*y,vitC*z) ## ( no of strips * price )\n",
        "\n",
        "def refund(a ,b) :\n",
        "  amt = a - b\n",
        "  print(f'Amount refunded to the patient : Rs. {amt} ')\n",
        "\n",
        "\n",
        "refund(amount , bill) #( amount = money given by patient and bill = total cost of medicines)"
      ],
      "metadata": {
        "colab": {
          "base_uri": "https://localhost:8080/"
        },
        "id": "iaFn7SRuUwiN",
        "outputId": "bf957f88-ce9a-4dfb-ec6b-bdfef87741c3"
      },
      "execution_count": null,
      "outputs": [
        {
          "output_type": "stream",
          "name": "stdout",
          "text": [
            "Enter number of strips of Paracetamol : 2\n",
            "Enter number of strips of azithromycin : 3\n",
            "Enter number of strips of Vitamin C : 5\n",
            "Enter amount given by patient : 2000\n",
            "Total cost of paracetamol is Rs. 70 \n",
            "Total cost of azithromycin is Rs. 147 \n",
            "Total cost of vitC is Rs. 165 \n",
            "Total cost of all medicines is Rs. 382 \n",
            "Amount refunded to the patient : Rs. 1618 \n"
          ]
        }
      ]
    },
    {
      "cell_type": "markdown",
      "source": [
        "Q5: Accept a sentence as input and find the number of vowels in it. Assume that the sentence has no punctuation marks. For example: I am learning python contains 6 vowels. This function should be applicable for all other different sentences.\n",
        "\n",
        "\n"
      ],
      "metadata": {
        "id": "J6Ix5abIcaxx"
      }
    },
    {
      "cell_type": "code",
      "source": [
        "sent = input ( \"Enter the sentence : \")\n",
        "vowel = 0\n",
        "\n",
        "for ele in sent :\n",
        "  if ( ele=='a' or ele=='e' or ele=='i' or ele=='o' or ele=='u' or\n",
        "      ele=='A' or ele=='E' or ele=='I' or ele=='O' or ele=='U' ):\n",
        "    vowel = vowel + 1\n",
        "print(\"Total Number of Vowels in given String = \", vowel)"
      ],
      "metadata": {
        "colab": {
          "base_uri": "https://localhost:8080/"
        },
        "id": "RuGNoyFMjCH7",
        "outputId": "838ae34e-dd64-4041-8ef8-3ae0baf3f9d3"
      },
      "execution_count": null,
      "outputs": [
        {
          "output_type": "stream",
          "name": "stdout",
          "text": [
            "Enter the sentence : I am learning python\n",
            "Total Number of Vowels in given String =  6\n"
          ]
        }
      ]
    },
    {
      "cell_type": "code",
      "source": [
        "# Below ans is good\n",
        "\n",
        "sent = input ( \"Enter the sentence : \")\n",
        "vowel = 0\n",
        "l = \"aeiouAEIOU\"\n",
        "\n",
        "for ele in sent :\n",
        "  if ele in l :\n",
        "    vowel = vowel + 1\n",
        "print(\"Total Number of Vowels in given String = \", vowel)"
      ],
      "metadata": {
        "colab": {
          "base_uri": "https://localhost:8080/"
        },
        "id": "MYxQfwpGnKxV",
        "outputId": "988d45e1-c2f9-43ba-815d-72bf503e5193"
      },
      "execution_count": null,
      "outputs": [
        {
          "output_type": "stream",
          "name": "stdout",
          "text": [
            "Enter the sentence : I am learning python\n",
            "Total Number of Vowels in given String =  6\n"
          ]
        }
      ]
    },
    {
      "cell_type": "markdown",
      "source": [
        "Q6: You have been appointed by the election commission to create a website. Your first task is to work on a program which tells candidates if they are eligible for voting or not. If they are eligible your output should be ‘Congrats! You are eligible’, otherwise it should tell that you have to return after X number of years. Eligibility criteria for voting is 18 years.\n",
        "\n",
        "\n",
        "For example, If someone is 18 or above your output should be ‘Congrats! You are eligible’. If someone’s age is 15 years it should print output as ‘return after 3 years’.\n",
        "\n",
        "\n"
      ],
      "metadata": {
        "id": "vxTsG8bvmK1s"
      }
    },
    {
      "cell_type": "code",
      "source": [
        "age = int ( input (\"Enter age : \"))\n",
        "\n",
        "if age >= 18 :\n",
        "  print(\" 'Congrats! You are eligible' \")\n",
        "else :\n",
        "  year = 18 -age\n",
        "  print(f\" 'Return after {year} years'. \")"
      ],
      "metadata": {
        "colab": {
          "base_uri": "https://localhost:8080/"
        },
        "id": "ZOMlpMbKmPMS",
        "outputId": "de72123b-1f7d-48b1-cf1f-6427f2a815e8"
      },
      "execution_count": null,
      "outputs": [
        {
          "output_type": "stream",
          "name": "stdout",
          "text": [
            "Enter age : 15\n",
            " 'Return after 3 years'. \n"
          ]
        }
      ]
    }
  ]
}