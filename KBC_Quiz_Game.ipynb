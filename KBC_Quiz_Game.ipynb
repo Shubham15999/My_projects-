{
  "nbformat": 4,
  "nbformat_minor": 0,
  "metadata": {
    "colab": {
      "provenance": []
    },
    "kernelspec": {
      "name": "python3",
      "display_name": "Python 3"
    },
    "language_info": {
      "name": "python"
    }
  },
  "cells": [
    {
      "cell_type": "code",
      "execution_count": 1,
      "metadata": {
        "colab": {
          "base_uri": "https://localhost:8080/"
        },
        "id": "lIhSm90IpZ5c",
        "outputId": "edb3cf3a-c7aa-4159-8365-4a493628cf77"
      },
      "outputs": [
        {
          "output_type": "stream",
          "name": "stdout",
          "text": [
            "\n",
            "\n",
            "The Question for Rs. 1000  is : \n",
            "Who is known as the Father of the Indian Constitution?\n",
            "A) Mahatma Gandhi\n",
            "B) Jawaharlal Nehru\n",
            "C) B.R. Ambedkar\n",
            "D) Subhash Chandra Bose\n",
            "Enter your choice between 1 to 4 or 0 to quit  : 3\n",
            "correct\n",
            "\n",
            "\n",
            "The Question for Rs. 2000  is : \n",
            "Which festival is celebrated as the Festival of Lights in India?\n",
            "A) Diwali\n",
            "B) Holi\n",
            "C) Eid\n",
            "D) Christmas\n",
            "Enter your choice between 1 to 4 or 0 to quit  : 1\n",
            "correct\n",
            "\n",
            "\n",
            "The Question for Rs. 3000  is : \n",
            "Who was the first Prime Minister of India?\n",
            "A) Indira Gandhi\n",
            "B) Rajiv Gandhi\n",
            "C) Jawaharlal Nehru\n",
            "D) Narendra Modi\n",
            "Enter your choice between 1 to 4 or 0 to quit  : 2\n",
            "Wrong Answer .\n",
            "You have won Rs.0.\n"
          ]
        }
      ],
      "source": [
        "# creating a list of questions along with options and correct answer for that particular question .\n",
        "\n",
        "Questions = [[\"Who is known as the Father of the Indian Constitution?\" , \"A) Mahatma Gandhi\",\"B) Jawaharlal Nehru\",\"C) B.R. Ambedkar\", \"D) Subhash Chandra Bose\", 3 ],\n",
        "\n",
        "             [\"Which festival is celebrated as the Festival of Lights in India?\",\"A) Diwali\",\"B) Holi\",\"C) Eid\",\"D) Christmas\",1],\n",
        "\n",
        "             [\"Who was the first Prime Minister of India?\",\"A) Indira Gandhi\",\"B) Rajiv Gandhi\",\"C) Jawaharlal Nehru\",\"D) Narendra Modi\",3],\n",
        "\n",
        "             [\"Which city is known as the Pink City of India?\",\"A) Jaipur\",\"B) Kolkata\",\"C) Mumbai\",\"D) Chennai\",1],\n",
        "\n",
        "             [\"Which sport is considered the national game of India?\",\"A) Cricket\",\"B) Hockey\",\"C) Football\",\"D) Badminton\",2],\n",
        "\n",
        "             [\"Which color is a primary color?\",\"A) Red\",\"B) Orange\",\"C) Purple\",\"D) Brown\",1],\n",
        "\n",
        "             [\"How many days are there in a leap year?\",\"A) 364\",\"B) 365\",\"C) 366\",\"D) 367\",3],\n",
        "\n",
        "             [\"What is the capital city of Australia?\",\"A) Sydney\",\"B) Melbourne\",\"C) Canberra\",\"D) Perth\",3],\n",
        "\n",
        "             [\"Which planet is closest to the Sun?\",\"A) Earth\",\"B) Mars\",\"C) Venus\",\"D) Mercury\",4],\n",
        "\n",
        "             [\"Which animal is known as the King of the Jungle?\",\"A) Lion\",\"B) Elephant\",\"C) Giraffe\",\"D) Tiger\",1],\n",
        "\n",
        "             [\"Who is known as the Father of the Nation in India?\",\"A) Mahatma Gandhi\",\"B) Jawaharlal Nehru\",\"C) Subhash Chandra Bose\",\"D) Bhagat Singh\",1],\n",
        "\n",
        "             [\"Which of the following is the national animal of India?\",\"A) Tiger\",\"B) Elephant\",\"C) Lion\",\"D) Peacock\",1],\n",
        "\n",
        "             [\"What is the national flower of India?\",\"a) Sunflower\",\"B) Rose\",\"C) Lotus\",\"D) Tulip\",3],\n",
        "\n",
        "             [\"Who composed the Indian national anthem, Jana Gana Mana?\",\"A) Mahatma Gandhi\",\"B) Swami Vivekananda\",\"C) Bhagat Singh\",\"D) Rabindranath Tagore\",4],\n",
        "\n",
        "             [\"Which Indian state is famous for its backwaters?\",\"A) Rajasthan\" ,\"B) Kerala\",\"C) Maharashtra\",\"D) Gujarat\",2]]    # numbers indicate the index  position of correct option\n",
        "\n",
        "levels = [1000,2000,3000,5000,10000,20000,40000,80000,160000,320000,640000,1250000,2500000,5000000,10000000]  # this indicates the money for each questions\n",
        "\n",
        "money = 0  # initializing the money contestant won with 0\n",
        "\n",
        "for i in range(0,len(Questions)):   # for loop will work for the questions that are present in the list with help of  length and range function ,\n",
        "  ques = Questions[i][0]         # Accessing questions\n",
        "  print(\"\\n\")           # Printing new line before each question\n",
        "  print(f\"The Question for Rs. {levels[i]}  is : \")       # to display the amount for which player is anwering the question .\n",
        "  print(ques)\n",
        "  for j in range(1,5):  # as options start from index position 1 and end with index 4(5 will not be considered .) in Questions list .\n",
        "   options =Questions[i][j]     # Accessing options from list\n",
        "   print(options)\n",
        "  ans = int(input(\"Enter your choice between 1 to 4 or 0 to quit  : \"))\n",
        "  if ans == 0 :\n",
        "    money = levels[i-1]         # If player wants to quit then money will be updated to the last correct answer\n",
        "    print(\"Game over \")\n",
        "    break\n",
        "  elif ans == Questions[i][-1]:\n",
        "    money = levels[i]        # if the answer is correct then money will be updated to the current levels amount\n",
        "    print(\"correct\")\n",
        "  else:\n",
        "    print(\"Wrong Answer .\")    # there are 2 safe places in the questions ladder . One is at 10,000 and second at 3,20,000. if player surpasses the first safe place then even if he\n",
        "    #gives wrong answer then also he will be getting 10,000. Simmilarly if player surpasees second safe place and then gives wrong answer then he will get 3,20,000\n",
        "    if (levels[i-1] ) >= 10000 and (levels[i-1] ) < 320000:\n",
        "      money = 10000\n",
        "    elif (levels[i-1] ) >= 320000:\n",
        "      money = 320000\n",
        "    else :\n",
        "      money = 0\n",
        "    break\n",
        "\n",
        "print(f\"You have won Rs.{money}.\")\n",
        "\n"
      ]
    }
  ]
}